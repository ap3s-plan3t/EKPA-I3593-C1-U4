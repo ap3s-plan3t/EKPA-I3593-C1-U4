{
  "nbformat": 4,
  "nbformat_minor": 0,
  "metadata": {
    "colab": {
      "provenance": [],
      "name": "Ekpa_CybAI_tzortzis_anomaly_detection.ipynb",
      "include_colab_link": true
    },
    "kernelspec": {
      "name": "python3",
      "display_name": "Python 3"
    },
    "language_info": {
      "name": "python"
    }
  },
  "cells": [
    {
      "cell_type": "markdown",
      "metadata": {
        "id": "view-in-github",
        "colab_type": "text"
      },
      "source": [
        "<a href=\"https://colab.research.google.com/github/ap3s-plan3t/EKPA-I3593-C1-U4/blob/main/Ekpa_CybAI_tzortzis_anomaly_detection.ipynb\" target=\"_parent\"><img src=\"https://colab.research.google.com/assets/colab-badge.svg\" alt=\"Open In Colab\"/></a>"
      ]
    },
    {
      "cell_type": "code",
      "source": [
        "#εγκατάσταση πακέτου PyOD (https://pyod.readthedocs.io/en/latest/)\n",
        "!pip install pyod"
      ],
      "metadata": {
        "colab": {
          "base_uri": "https://localhost:8080/"
        },
        "id": "7y4_o32EG8c0",
        "outputId": "27a8aa89-3e57-45f2-cd6e-538e3248391a"
      },
      "execution_count": null,
      "outputs": [
        {
          "output_type": "stream",
          "name": "stdout",
          "text": [
            "Requirement already satisfied: pyod in /usr/local/lib/python3.10/dist-packages (2.0.1)\n",
            "Requirement already satisfied: joblib in /usr/local/lib/python3.10/dist-packages (from pyod) (1.4.2)\n",
            "Requirement already satisfied: matplotlib in /usr/local/lib/python3.10/dist-packages (from pyod) (3.7.1)\n",
            "Requirement already satisfied: numpy>=1.19 in /usr/local/lib/python3.10/dist-packages (from pyod) (1.25.2)\n",
            "Requirement already satisfied: numba>=0.51 in /usr/local/lib/python3.10/dist-packages (from pyod) (0.58.1)\n",
            "Requirement already satisfied: scipy>=1.5.1 in /usr/local/lib/python3.10/dist-packages (from pyod) (1.11.4)\n",
            "Requirement already satisfied: scikit-learn>=0.22.0 in /usr/local/lib/python3.10/dist-packages (from pyod) (1.2.2)\n",
            "Requirement already satisfied: llvmlite<0.42,>=0.41.0dev0 in /usr/local/lib/python3.10/dist-packages (from numba>=0.51->pyod) (0.41.1)\n",
            "Requirement already satisfied: threadpoolctl>=2.0.0 in /usr/local/lib/python3.10/dist-packages (from scikit-learn>=0.22.0->pyod) (3.5.0)\n",
            "Requirement already satisfied: contourpy>=1.0.1 in /usr/local/lib/python3.10/dist-packages (from matplotlib->pyod) (1.2.1)\n",
            "Requirement already satisfied: cycler>=0.10 in /usr/local/lib/python3.10/dist-packages (from matplotlib->pyod) (0.12.1)\n",
            "Requirement already satisfied: fonttools>=4.22.0 in /usr/local/lib/python3.10/dist-packages (from matplotlib->pyod) (4.53.0)\n",
            "Requirement already satisfied: kiwisolver>=1.0.1 in /usr/local/lib/python3.10/dist-packages (from matplotlib->pyod) (1.4.5)\n",
            "Requirement already satisfied: packaging>=20.0 in /usr/local/lib/python3.10/dist-packages (from matplotlib->pyod) (24.1)\n",
            "Requirement already satisfied: pillow>=6.2.0 in /usr/local/lib/python3.10/dist-packages (from matplotlib->pyod) (9.4.0)\n",
            "Requirement already satisfied: pyparsing>=2.3.1 in /usr/local/lib/python3.10/dist-packages (from matplotlib->pyod) (3.1.2)\n",
            "Requirement already satisfied: python-dateutil>=2.7 in /usr/local/lib/python3.10/dist-packages (from matplotlib->pyod) (2.8.2)\n",
            "Requirement already satisfied: six>=1.5 in /usr/local/lib/python3.10/dist-packages (from python-dateutil>=2.7->matplotlib->pyod) (1.16.0)\n"
          ]
        }
      ]
    },
    {
      "cell_type": "code",
      "source": [
        "#εισαγωγή βιβλιοθηκών - πακέτων / εισαγωγή του πακέτου ECOD - αφαίρεση του πακέτου IForest\n",
        "import pandas as pd\n",
        "from sklearn.preprocessing import StandardScaler\n",
        "from __future__ import division\n",
        "from __future__ import print_function\n",
        "import os\n",
        "import sys\n",
        "import matplotlib.pyplot as plt"
      ],
      "metadata": {
        "id": "ZuEgP2MsOGWs"
      },
      "execution_count": null,
      "outputs": []
    },
    {
      "cell_type": "code",
      "source": [
        "#εισαγωγή του συνόλου δεδομένων - παρέμεινε το ίδιο datashet\n",
        "network_data = pd.read_csv('https://raw.githubusercontent.com/kdemertzis/EKPA/main/Data/network_traffic_data.csv', delimiter=',')"
      ],
      "metadata": {
        "id": "d3FfkblWOOy7"
      },
      "execution_count": null,
      "outputs": []
    },
    {
      "cell_type": "code",
      "source": [
        "#εξαγωγή χαρακτηριστικών (ανεξάρτητων μεταβλητών) για την αναγνώριση ανωμαλιών\n",
        "features = ['src_port', 'dest_port', 'packet_size', 'num_packets',\n",
        "            'flow_duration', 'bytes_transferred', 'packet_rate']\n",
        "\n",
        "X = network_data[features].values"
      ],
      "metadata": {
        "id": "n7sMm4xAOTut"
      },
      "execution_count": null,
      "outputs": []
    },
    {
      "cell_type": "code",
      "source": [
        "# Import the necessary library for scaling\n",
        "from sklearn.preprocessing import StandardScaler\n",
        "\n",
        "# Initialize the scaler\n",
        "scaler = StandardScaler()\n",
        "\n",
        "# Scale the network data\n",
        "network_data_scaled = scaler.fit_transform(network_data.select_dtypes(include=['number']))"
      ],
      "metadata": {
        "id": "gFY780eBOWvB"
      },
      "execution_count": null,
      "outputs": []
    },
    {
      "cell_type": "code",
      "source": [
        "# temporary solution for relative imports in case pyod is not installed\n",
        "# if pyod is installed, no need to use the following line\n",
        "sys.path.append(\n",
        "    os.path.abspath(os.path.join(os.path.dirname(\"__file__\"), '..')))\n",
        "\n",
        "from pyod.models.ecod import ECOD\n",
        "from pyod.utils.data import generate_data\n",
        "from pyod.utils.data import evaluate_print\n",
        "from pyod.utils.example import visualize"
      ],
      "metadata": {
        "id": "dwEWbBx8Bpgw"
      },
      "execution_count": null,
      "outputs": []
    },
    {
      "cell_type": "code",
      "source": [
        "if __name__ == \"__main__\":\n",
        "    contamination = 0.02  # percentage of outliers\n",
        "    n_train = 200  # number of training points\n",
        "    n_test = 100  # number of testing points"
      ],
      "metadata": {
        "id": "95wOz2xLAdh4"
      },
      "execution_count": null,
      "outputs": []
    },
    {
      "cell_type": "code",
      "source": [
        "# Generate sample data\n",
        "X_train, X_test, y_train, y_test = generate_data(n_train=n_train,\n",
        "                      n_test=n_test,\n",
        "                      n_features=2,\n",
        "                      contamination=contamination,\n",
        "                      random_state=42)"
      ],
      "metadata": {
        "id": "9jlwVZWyBTFH"
      },
      "execution_count": null,
      "outputs": []
    },
    {
      "cell_type": "code",
      "source": [
        "# train ECOD detector\n",
        "clf_name = 'ECOD'\n",
        "clf = ECOD()\n",
        "clf.fit(X_train)"
      ],
      "metadata": {
        "colab": {
          "base_uri": "https://localhost:8080/"
        },
        "id": "s07WILloOZPj",
        "outputId": "2b85a6a3-9136-4d1d-86a6-492737ee18ff"
      },
      "execution_count": null,
      "outputs": [
        {
          "output_type": "execute_result",
          "data": {
            "text/plain": [
              "ECOD(contamination=0.1, n_jobs=1)"
            ]
          },
          "metadata": {},
          "execution_count": 226
        }
      ]
    },
    {
      "cell_type": "code",
      "source": [
        "# get the prediction labels and outlier scores of the training data\n",
        "y_train_pred = clf.predict(X_train)\n",
        "y_train_scores = clf.decision_function(X_train)"
      ],
      "metadata": {
        "id": "LnZEmZTpObp5"
      },
      "execution_count": null,
      "outputs": []
    },
    {
      "cell_type": "code",
      "source": [
        "# get the prediction on the test data\n",
        "y_test_pred = clf.predict(X_test)\n",
        "y_test_scores = clf.decision_function(X_test)"
      ],
      "metadata": {
        "id": "SnNDZagtEXsv"
      },
      "execution_count": null,
      "outputs": []
    },
    {
      "cell_type": "code",
      "source": [
        "# evaluate and print the results\n",
        "print(\"\\nOn Training Data:\")\n",
        "evaluate_print(clf_name, y_train, y_train_scores)\n",
        "print(\"\\nOn Test Data:\")\n",
        "evaluate_print(clf_name, y_test, y_test_scores)"
      ],
      "metadata": {
        "colab": {
          "base_uri": "https://localhost:8080/"
        },
        "id": "qBjT-pXtIPYy",
        "outputId": "0f0a574e-3082-4f61-959b-bd858c634755"
      },
      "execution_count": null,
      "outputs": [
        {
          "output_type": "stream",
          "name": "stdout",
          "text": [
            "\n",
            "On Training Data:\n",
            "ECOD ROC:0.9987, precision @ rank n:0.75\n",
            "\n",
            "On Test Data:\n",
            "ECOD ROC:1.0, precision @ rank n:1.0\n"
          ]
        }
      ]
    },
    {
      "cell_type": "code",
      "source": [
        "# visualize the results\n",
        "visualize(clf_name, X_train, y_train, X_test, y_test, y_train_pred,\n",
        "y_test_pred, show_figure=True, save_figure=False)"
      ],
      "metadata": {
        "colab": {
          "base_uri": "https://localhost:8080/",
          "height": 798
        },
        "id": "H0BVMs4IOnr4",
        "outputId": "aff05126-0149-4399-f389-dbf0ca73c41f"
      },
      "execution_count": null,
      "outputs": [
        {
          "output_type": "display_data",
          "data": {
            "text/plain": [
              "<Figure size 1200x1000 with 4 Axes>"
            ],
            "image/png": "[encoded data removed]"
          },
          "metadata": {}
        }
      ]
    },
    {
      "cell_type": "code",
      "source": [
        "# Calculate the anomaly scores using your model\n",
        "network_data['anomaly_score'] = clf.decision_function(network_data_scaled[:, :X_train.shape[1]])"
      ],
      "metadata": {
        "id": "7VPD5BQhLeZ2"
      },
      "execution_count": null,
      "outputs": []
    },
    {
      "cell_type": "code",
      "source": [
        "# Print the values that were identified as anomalies\n",
        "print(network_data[network_data['anomaly_score'] > clf.threshold_]) # Use 'clf' instead of 'model'\n",
        "anomalies = network_data[network_data['anomaly_score'] > clf.threshold_]\n",
        "print(\"Detected Anomalies:\")\n",
        "print(anomalies)"
      ],
      "metadata": {
        "colab": {
          "base_uri": "https://localhost:8080/"
        },
        "id": "KQkUkWVfLIJZ",
        "outputId": "390868b3-5c9e-4692-c4b9-791d2d9c6e1f"
      },
      "execution_count": null,
      "outputs": [
        {
          "output_type": "stream",
          "name": "stdout",
          "text": [
            "             src_ip         dest_ip  src_port  dest_port protocol  \\\n",
            "12    167.97.11.236  232.126.87.193      1177      21829     ICMP   \n",
            "23    245.149.68.55     14.99.31.95      1810      14914      UDP   \n",
            "52    233.102.16.13   78.214.13.214     40496       1978     ICMP   \n",
            "57     14.119.240.3   156.201.16.65      1167      63332     ICMP   \n",
            "63    140.17.159.95     88.34.207.1     12421       4151     ICMP   \n",
            "..              ...             ...       ...        ...      ...   \n",
            "942   95.227.238.93  180.15.235.122     52612       2233     ICMP   \n",
            "959   112.102.90.89   206.35.108.54     38703       1352      UDP   \n",
            "971  25.114.146.108   70.89.225.157      6494       4699      UDP   \n",
            "989   248.187.53.69    136.67.80.16      3088      62265      TCP   \n",
            "991  134.102.165.84  167.185.202.84     11590       1052      UDP   \n",
            "\n",
            "     packet_size  num_packets  flow_duration  bytes_transferred  packet_rate  \\\n",
            "12      1.311241           17             57              37007         2422   \n",
            "23      1.459062           45             43              19907         3416   \n",
            "52      1.619678           40             90               8394         4005   \n",
            "57      0.727970           47             74              45036         2281   \n",
            "63      0.697564            8             39              22119         3278   \n",
            "..           ...          ...            ...                ...          ...   \n",
            "942     1.197282           25             26              34741         2156   \n",
            "959     1.050754           26             32               7560         2719   \n",
            "971     0.501927           46             47              49365         1016   \n",
            "989     1.502029           34             19              15662         3595   \n",
            "991     1.370343           20             39               1394         3357   \n",
            "\n",
            "               timestamp  anomaly_score  \n",
            "12   2023-01-01 00:12:00       6.976748  \n",
            "23   2023-01-01 00:23:00       6.172787  \n",
            "52   2023-01-01 00:52:00       4.893593  \n",
            "57   2023-01-01 00:57:00       7.621956  \n",
            "63   2023-01-01 01:03:00       5.007308  \n",
            "..                   ...            ...  \n",
            "942  2023-01-01 15:42:00       5.115070  \n",
            "959  2023-01-01 15:59:00       5.390341  \n",
            "971  2023-01-01 16:11:00       5.559682  \n",
            "989  2023-01-01 16:29:00       5.177084  \n",
            "991  2023-01-01 16:31:00       7.737614  \n",
            "\n",
            "[74 rows x 12 columns]\n",
            "Detected Anomalies:\n",
            "             src_ip         dest_ip  src_port  dest_port protocol  \\\n",
            "12    167.97.11.236  232.126.87.193      1177      21829     ICMP   \n",
            "23    245.149.68.55     14.99.31.95      1810      14914      UDP   \n",
            "52    233.102.16.13   78.214.13.214     40496       1978     ICMP   \n",
            "57     14.119.240.3   156.201.16.65      1167      63332     ICMP   \n",
            "63    140.17.159.95     88.34.207.1     12421       4151     ICMP   \n",
            "..              ...             ...       ...        ...      ...   \n",
            "942   95.227.238.93  180.15.235.122     52612       2233     ICMP   \n",
            "959   112.102.90.89   206.35.108.54     38703       1352      UDP   \n",
            "971  25.114.146.108   70.89.225.157      6494       4699      UDP   \n",
            "989   248.187.53.69    136.67.80.16      3088      62265      TCP   \n",
            "991  134.102.165.84  167.185.202.84     11590       1052      UDP   \n",
            "\n",
            "     packet_size  num_packets  flow_duration  bytes_transferred  packet_rate  \\\n",
            "12      1.311241           17             57              37007         2422   \n",
            "23      1.459062           45             43              19907         3416   \n",
            "52      1.619678           40             90               8394         4005   \n",
            "57      0.727970           47             74              45036         2281   \n",
            "63      0.697564            8             39              22119         3278   \n",
            "..           ...          ...            ...                ...          ...   \n",
            "942     1.197282           25             26              34741         2156   \n",
            "959     1.050754           26             32               7560         2719   \n",
            "971     0.501927           46             47              49365         1016   \n",
            "989     1.502029           34             19              15662         3595   \n",
            "991     1.370343           20             39               1394         3357   \n",
            "\n",
            "               timestamp  anomaly_score  \n",
            "12   2023-01-01 00:12:00       6.976748  \n",
            "23   2023-01-01 00:23:00       6.172787  \n",
            "52   2023-01-01 00:52:00       4.893593  \n",
            "57   2023-01-01 00:57:00       7.621956  \n",
            "63   2023-01-01 01:03:00       5.007308  \n",
            "..                   ...            ...  \n",
            "942  2023-01-01 15:42:00       5.115070  \n",
            "959  2023-01-01 15:59:00       5.390341  \n",
            "971  2023-01-01 16:11:00       5.559682  \n",
            "989  2023-01-01 16:29:00       5.177084  \n",
            "991  2023-01-01 16:31:00       7.737614  \n",
            "\n",
            "[74 rows x 12 columns]\n"
          ]
        }
      ]
    }
  ]
}